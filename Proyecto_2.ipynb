{
  "nbformat": 4,
  "nbformat_minor": 0,
  "metadata": {
    "colab": {
      "provenance": []
    },
    "kernelspec": {
      "name": "python3",
      "display_name": "Python 3"
    },
    "language_info": {
      "name": "python"
    }
  },
  "cells": [
    {
      "cell_type": "code",
      "execution_count": 76,
      "metadata": {
        "id": "kEo6FiDudtY7"
      },
      "outputs": [],
      "source": [
        "# Proyecto de clasificadores\n",
        "# Alumno: Gael Peña Fonseca"
      ]
    },
    {
      "cell_type": "code",
      "source": [
        "# Importamos las paqueterias necesarias\n",
        "from sklearn.linear_model import LogisticRegression\n",
        "from sklearn.neighbors import KNeighborsClassifier\n",
        "from sklearn.svm import SVC\n",
        "from sklearn.tree import DecisionTreeClassifier\n",
        "from sklearn.ensemble import RandomForestClassifier\n",
        "from sklearn.metrics import confusion_matrix, classification_report"
      ],
      "metadata": {
        "id": "GTIl26kDeClr"
      },
      "execution_count": 99,
      "outputs": []
    },
    {
      "cell_type": "code",
      "source": [
        "class Clasificadores:\n",
        "    '''\n",
        "    Esta clase organiza el entrenamiento y la evaluación de cinco modelos\n",
        "    de clasificación estándar utilizando herramientas de la paquetería\n",
        "    Scikit-learn.\n",
        "    '''\n",
        "\n",
        "    def __init__(self):\n",
        "        '''\n",
        "        Definimos a los clasificadores con la ayuda de las paqueterías:\n",
        "        - \"RL\": Regresión Logística\n",
        "        - \"K-NN\": K-Nearest Neighbors\n",
        "        - \"MSV\": Máquina de Soporte Vectorial\n",
        "        - \"AD\": Árbol de Decisión\n",
        "        - \"RF\": Random Forest\n",
        "        '''\n",
        "        self.modelos = {\n",
        "            \"RL\": LogisticRegression(),\n",
        "            \"K-NN\": KNeighborsClassifier(),\n",
        "            \"MSV\": SVC(),\n",
        "            \"AD\": DecisionTreeClassifier(),\n",
        "            \"RF\": RandomForestClassifier(),\n",
        "        }\n",
        "        self.resultados = {}\n",
        "\n",
        "    def ent_modelos(self, X_train, y_train):\n",
        "        '''\n",
        "        Entrena cada modelo usando el método .fit(X_train, y_train).\n",
        "        .fit() entrena el modelo ajustando parámetros internos a los\n",
        "        datos de entrenamiento.\n",
        "        '''\n",
        "        # Entrenamiento mediante un bucle simple\n",
        "        for nombre, modelo in self.modelos.items():\n",
        "            modelo.fit(X_train, y_train)  # Entrenar con fit\n",
        "            print(f\"Modelo {nombre} entrenado.\")\n",
        "\n",
        "    def ev_modelos(self, X_test, y_test):\n",
        "        '''\n",
        "        Evalúa cada modelo con los datos de prueba.\n",
        "\n",
        "        Métricas calculadas:\n",
        "        - Matriz de confusión: compara predicciones con etiquetas reales.\n",
        "        - Reporte de clasificación: incluye precisión, sensibilidad y\n",
        "          F1-score.\n",
        "        '''\n",
        "        # Evaluar clasificadores\n",
        "        for nombre, modelo in self.modelos.items():\n",
        "            predicciones = modelo.predict(X_test)\n",
        "            print(f\"\\nEvaluación del modelo: {nombre}\")\n",
        "\n",
        "            # Matriz de confusión\n",
        "            print(\"\\nMatriz de confusión:\")\n",
        "            print(confusion_matrix(y_test, predicciones))\n",
        "\n",
        "            # Reporte de clasificación\n",
        "            print(\"\\nReporte de clasificación:\")\n",
        "            print(classification_report(y_test, predicciones))\n",
        "\n",
        "            # Guardar resultados\n",
        "            self.resultados[nombre] = classification_report(\n",
        "                y_test, predicciones, output_dict=True\n",
        "            )"
      ],
      "metadata": {
        "id": "_hTnkCPae8Jy"
      },
      "execution_count": 109,
      "outputs": []
    },
    {
      "cell_type": "code",
      "source": [
        "# A cargar los datos chavales\n",
        "import pandas as pd\n",
        "from sklearn.model_selection import train_test_split\n",
        "from sklearn.preprocessing import StandardScaler\n",
        "\n",
        "DF2 = pd.read_csv(\"/content/cancer - cancer.csv\")\n",
        "print(DF2)"
      ],
      "metadata": {
        "colab": {
          "base_uri": "https://localhost:8080/"
        },
        "id": "-vFxmVjHsrl0",
        "outputId": "85a246da-06b1-4995-f92e-2c4cc621e7f7"
      },
      "execution_count": 110,
      "outputs": [
        {
          "output_type": "stream",
          "name": "stdout",
          "text": [
            "           id diagnosis  radius_mean  texture_mean  perimeter_mean  area_mean  \\\n",
            "0      842302         M        17.99         10.38          122.80     1001.0   \n",
            "1      842517         M        20.57         17.77          132.90     1326.0   \n",
            "2    84300903         M        19.69         21.25          130.00     1203.0   \n",
            "3    84348301         M        11.42         20.38           77.58      386.1   \n",
            "4    84358402         M        20.29         14.34          135.10     1297.0   \n",
            "..        ...       ...          ...           ...             ...        ...   \n",
            "494    914102         B        13.16         20.54           84.06      538.7   \n",
            "495    914333         B        14.87         20.21           96.12      680.9   \n",
            "496    914366         B        12.65         18.17           82.69      485.6   \n",
            "497    914580         B        12.47         17.31           80.45      480.1   \n",
            "498    914769         M        18.49         17.52          121.30     1068.0   \n",
            "\n",
            "     smoothness_mean  compactness_mean  concavity_mean  concave points_mean  \\\n",
            "0            0.11840           0.27760         0.30010              0.14710   \n",
            "1            0.08474           0.07864         0.08690              0.07017   \n",
            "2            0.10960           0.15990         0.19740              0.12790   \n",
            "3            0.14250           0.28390         0.24140              0.10520   \n",
            "4            0.10030           0.13280         0.19800              0.10430   \n",
            "..               ...               ...             ...                  ...   \n",
            "494          0.07335           0.05275         0.01800              0.01256   \n",
            "495          0.09587           0.08345         0.06824              0.04951   \n",
            "496          0.10760           0.13340         0.08017              0.05074   \n",
            "497          0.08928           0.07630         0.03609              0.02369   \n",
            "498          0.10120           0.13170         0.14910              0.09183   \n",
            "\n",
            "     ...  radius_worst  texture_worst  perimeter_worst  area_worst  \\\n",
            "0    ...         25.38          17.33           184.60      2019.0   \n",
            "1    ...         24.99          23.41           158.80      1956.0   \n",
            "2    ...         23.57          25.53           152.50      1709.0   \n",
            "3    ...         14.91          26.50            98.87       567.7   \n",
            "4    ...         22.54          16.67           152.20      1575.0   \n",
            "..   ...           ...            ...              ...         ...   \n",
            "494  ...         14.50          28.46            95.29       648.3   \n",
            "495  ...         16.01          28.48           103.90       783.6   \n",
            "496  ...         14.38          22.15            95.29       633.7   \n",
            "497  ...         14.06          24.34            92.82       607.3   \n",
            "498  ...         22.75          22.88           146.40      1600.0   \n",
            "\n",
            "     smoothness_worst  compactness_worst  concavity_worst  \\\n",
            "0              0.1622             0.6656          0.71190   \n",
            "1              0.1238             0.1866          0.24160   \n",
            "2              0.1444             0.4245          0.45040   \n",
            "3              0.2098             0.8663          0.68690   \n",
            "4              0.1374             0.2050          0.40000   \n",
            "..                ...                ...              ...   \n",
            "494            0.1118             0.1646          0.07698   \n",
            "495            0.1216             0.1388          0.17000   \n",
            "496            0.1533             0.3842          0.35820   \n",
            "497            0.1276             0.2506          0.20280   \n",
            "498            0.1412             0.3089          0.35330   \n",
            "\n",
            "     concave points_worst  symmetry_worst  fractal_dimension_worst  \n",
            "0                 0.26540          0.4601                  0.11890  \n",
            "1                 0.18600          0.2750                  0.08902  \n",
            "2                 0.24300          0.3613                  0.08758  \n",
            "3                 0.25750          0.6638                  0.17300  \n",
            "4                 0.16250          0.2364                  0.07678  \n",
            "..                    ...             ...                      ...  \n",
            "494               0.04195          0.2687                  0.07429  \n",
            "495               0.10170          0.2369                  0.06599  \n",
            "496               0.14070          0.3230                  0.10330  \n",
            "497               0.10530          0.3035                  0.07661  \n",
            "498               0.16630          0.2510                  0.09445  \n",
            "\n",
            "[499 rows x 32 columns]\n"
          ]
        }
      ]
    },
    {
      "cell_type": "code",
      "source": [
        "#Convertir 'diagnosis' a valores numericos utilizando un loop\n",
        "diagnosis_numerico = []\n",
        "for valor in DF2['diagnosis']:\n",
        "    if valor == 'M':\n",
        "        diagnosis_numerico.append(1)\n",
        "    else:\n",
        "        diagnosis_numerico.append(0)\n",
        "DF2['diagnosis'] = diagnosis_numerico\n",
        "\n",
        "#Separar caracteristicas (X) y etiquetas (y)\n",
        "X = DF2.drop(['id', 'diagnosis'], axis=1)\n",
        "y = DF2['diagnosis']\n",
        "\n",
        "#Dividir datos en entrenamiento y prueba\n",
        "X_train, X_test, y_train, y_test = train_test_split(\n",
        "    X, y, test_size=0.2, random_state=42)\n",
        "\n",
        "#escalar caracteristicas utilizando metodos basicos\n",
        "scaler = StandardScaler()\n",
        "X_train = scaler.fit_transform(X_train)\n",
        "X_test = scaler.transform(X_test)\n",
        "\n",
        "#Guardar conjuntos en CSV\n",
        "train_data = pd.DataFrame(X_train, columns=X.columns)\n",
        "train_data['diagnosis'] = y_train.values\n",
        "train_data.to_csv('datos_entrenamiento.csv', index=False)\n",
        "\n",
        "test_data = pd.DataFrame(X_test, columns=X.columns)\n",
        "test_data['diagnosis'] = y_test.values\n",
        "test_data.to_csv('datos_prueba.csv', index=False)\n",
        "\n",
        "print(\"\\nArchivos CSV creados:\")\n",
        "print(\"1. datos_entrenamiento.csv\")\n",
        "print(\"2. datos_prueba.csv\")"
      ],
      "metadata": {
        "colab": {
          "base_uri": "https://localhost:8080/"
        },
        "id": "q0vqPoGAzTJy",
        "outputId": "25c28d94-6668-4a1c-f5f1-77d64ce6473f"
      },
      "execution_count": 126,
      "outputs": [
        {
          "output_type": "stream",
          "name": "stdout",
          "text": [
            "\n",
            "Archivos CSV creados:\n",
            "1. datos_entrenamiento.csv\n",
            "2. datos_prueba.csv\n"
          ]
        }
      ]
    },
    {
      "cell_type": "code",
      "source": [
        "#Crear una instancia de la clase Clasificadores\n",
        "clasificadores = Clasificadores()\n",
        "\n",
        "#entrenar los modelos\n",
        "print(\"\\nentrenando clasificadores \")\n",
        "clasificadores.ent_modelos(X_train, y_train)"
      ],
      "metadata": {
        "colab": {
          "base_uri": "https://localhost:8080/"
        },
        "id": "WpEw3Oa10Vw6",
        "outputId": "4ccd0939-ac1e-4516-ed82-63d6902f947f"
      },
      "execution_count": 116,
      "outputs": [
        {
          "output_type": "stream",
          "name": "stdout",
          "text": [
            "\n",
            "entrenando clasificadores \n",
            "Modelo RL entrenado.\n",
            "Modelo K-NN entrenado.\n",
            "Modelo MSV entrenado.\n",
            "Modelo AD entrenado.\n",
            "Modelo RF entrenado.\n"
          ]
        }
      ]
    },
    {
      "cell_type": "code",
      "source": [
        "#evaluar los modelos entrenados\n",
        "print(\"\\n evaluando clasificadores \")\n",
        "clasificadores.ev_modelos(X_test, y_test)"
      ],
      "metadata": {
        "colab": {
          "base_uri": "https://localhost:8080/"
        },
        "id": "IvXwipfE8XWJ",
        "outputId": "7ed53c8d-739d-4898-8472-c5a5598697e9"
      },
      "execution_count": 118,
      "outputs": [
        {
          "output_type": "stream",
          "name": "stdout",
          "text": [
            "\n",
            " evaluando clasificadores \n",
            "\n",
            "Evaluación del modelo: RL\n",
            "\n",
            "Matriz de confusión:\n",
            "[[61  0]\n",
            " [ 1 38]]\n",
            "\n",
            "Reporte de clasificación:\n",
            "              precision    recall  f1-score   support\n",
            "\n",
            "           0       0.98      1.00      0.99        61\n",
            "           1       1.00      0.97      0.99        39\n",
            "\n",
            "    accuracy                           0.99       100\n",
            "   macro avg       0.99      0.99      0.99       100\n",
            "weighted avg       0.99      0.99      0.99       100\n",
            "\n",
            "\n",
            "Evaluación del modelo: K-NN\n",
            "\n",
            "Matriz de confusión:\n",
            "[[61  0]\n",
            " [ 1 38]]\n",
            "\n",
            "Reporte de clasificación:\n",
            "              precision    recall  f1-score   support\n",
            "\n",
            "           0       0.98      1.00      0.99        61\n",
            "           1       1.00      0.97      0.99        39\n",
            "\n",
            "    accuracy                           0.99       100\n",
            "   macro avg       0.99      0.99      0.99       100\n",
            "weighted avg       0.99      0.99      0.99       100\n",
            "\n",
            "\n",
            "Evaluación del modelo: MSV\n",
            "\n",
            "Matriz de confusión:\n",
            "[[60  1]\n",
            " [ 1 38]]\n",
            "\n",
            "Reporte de clasificación:\n",
            "              precision    recall  f1-score   support\n",
            "\n",
            "           0       0.98      0.98      0.98        61\n",
            "           1       0.97      0.97      0.97        39\n",
            "\n",
            "    accuracy                           0.98       100\n",
            "   macro avg       0.98      0.98      0.98       100\n",
            "weighted avg       0.98      0.98      0.98       100\n",
            "\n",
            "\n",
            "Evaluación del modelo: AD\n",
            "\n",
            "Matriz de confusión:\n",
            "[[59  2]\n",
            " [ 3 36]]\n",
            "\n",
            "Reporte de clasificación:\n",
            "              precision    recall  f1-score   support\n",
            "\n",
            "           0       0.95      0.97      0.96        61\n",
            "           1       0.95      0.92      0.94        39\n",
            "\n",
            "    accuracy                           0.95       100\n",
            "   macro avg       0.95      0.95      0.95       100\n",
            "weighted avg       0.95      0.95      0.95       100\n",
            "\n",
            "\n",
            "Evaluación del modelo: RF\n",
            "\n",
            "Matriz de confusión:\n",
            "[[60  1]\n",
            " [ 2 37]]\n",
            "\n",
            "Reporte de clasificación:\n",
            "              precision    recall  f1-score   support\n",
            "\n",
            "           0       0.97      0.98      0.98        61\n",
            "           1       0.97      0.95      0.96        39\n",
            "\n",
            "    accuracy                           0.97       100\n",
            "   macro avg       0.97      0.97      0.97       100\n",
            "weighted avg       0.97      0.97      0.97       100\n",
            "\n"
          ]
        }
      ]
    },
    {
      "cell_type": "code",
      "source": [
        "import matplotlib.pyplot as plt\n",
        "\n",
        "#extraer precisiones\n",
        "precisiones = {}\n",
        "for nombre, resultados in clasificadores.resultados.items():\n",
        "    precisiones[nombre] = resultados['accuracy']\n",
        "\n",
        "#Imprimir precisiones\n",
        "print(\"\\n Comparacion de precision \")\n",
        "for nombre, precision in precisiones.items():\n",
        "    print(f\"{nombre}: {precision:.6f}\")\n",
        "\n",
        "#Graficar resultados\n",
        "plt.figure(figsize=(12, 10))\n",
        "plt.bar(precisiones.keys(), precisiones.values(), color='green')\n",
        "plt.title(\"Comparacion de clasificadores\")\n",
        "plt.ylabel(\"Precision\")\n",
        "plt.xlabel(\"modelo\")\n",
        "plt.xticks(rotation=45)\n",
        "plt.show()\n",
        "\n",
        "#Identificar el mejor clasificador\n",
        "mejor_modelo = max(precisiones, key=precisiones.get)\n",
        "print(\n",
        "    f\"\\nEl mejor clasificador es: {mejor_modelo} \"\n",
        "    f\"con una precisión de {precisiones[mejor_modelo]:.6f}\"\n",
        ")"
      ],
      "metadata": {
        "colab": {
          "base_uri": "https://localhost:8080/",
          "height": 1000
        },
        "id": "4igrkQQV8gZB",
        "outputId": "9dc700f4-37a3-40d8-dbcc-9ed8efcc379e"
      },
      "execution_count": 140,
      "outputs": [
        {
          "output_type": "stream",
          "name": "stdout",
          "text": [
            "\n",
            " Comparacion de precision \n",
            "RL: 0.990000\n",
            "K-NN: 0.990000\n",
            "MSV: 0.980000\n",
            "AD: 0.950000\n",
            "RF: 0.970000\n"
          ]
        },
        {
          "output_type": "display_data",
          "data": {
            "text/plain": [
              "<Figure size 1200x1000 with 1 Axes>"
            ],
            "image/png": "[encoded data removed]"
          },
          "metadata": {}
        },
        {
          "output_type": "stream",
          "name": "stdout",
          "text": [
            "\n",
            "El mejor clasificador es: RL con una precisión de 0.990000\n"
          ]
        }
      ]
    }
  ]
}